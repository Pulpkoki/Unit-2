{
 "cells": [
  {
   "cell_type": "markdown",
   "id": "bda73cdf",
   "metadata": {},
   "source": [
    "# LAB 2 WEEK PRESENTATION\n",
    "## DATA CLEANING\n",
    "### Costanza and Tommaso "
   ]
  },
  {
   "cell_type": "code",
   "execution_count": 269,
   "id": "deeca0cc",
   "metadata": {},
   "outputs": [],
   "source": [
    "### Import libraries\n",
    "import pandas as pd\n",
    "import numpy as np"
   ]
  },
  {
   "cell_type": "markdown",
   "id": "6311084a",
   "metadata": {},
   "source": [
    "#### Aggregate data into one Data Frame using Pandas. Pay attention that files may have different names for the same column. therefore, make sure that you unify the columns names before concating them.\n"
   ]
  },
  {
   "cell_type": "code",
   "execution_count": 270,
   "id": "a9ac32bf",
   "metadata": {},
   "outputs": [
    {
     "data": {
      "text/plain": [
       "[None, None, None]"
      ]
     },
     "execution_count": 270,
     "metadata": {},
     "output_type": "execute_result"
    }
   ],
   "source": [
    "file1 = pd.read_csv(\"file1.csv\")\n",
    "file2 = pd.read_csv(\"file2.csv\")\n",
    "file3 = pd.read_csv(\"file3.csv\")\n",
    "\n",
    "dfList = [file1, file2, file3]\n",
    "\n",
    "def lower_case_column_names(df):\n",
    "    df.columns=[i.lower() for i in df.columns]\n",
    "\n",
    "list(map(lower_case_column_names, dfList))"
   ]
  },
  {
   "cell_type": "markdown",
   "id": "148cea82",
   "metadata": {},
   "source": [
    "#### Standardizing header names and Aggregate data into one Data Frame using Pandas."
   ]
  },
  {
   "cell_type": "code",
   "execution_count": 271,
   "id": "01370f18",
   "metadata": {},
   "outputs": [],
   "source": [
    "file1.rename(columns = {\"st\": \"state\"}, inplace=True)\n",
    "file2.rename(columns = {\"st\": \"state\"}, inplace=True)\n",
    "df = pd.concat([file1,file2,file3], axis=0)"
   ]
  },
  {
   "cell_type": "markdown",
   "id": "75260ded",
   "metadata": {},
   "source": [
    "#### Deleting and rearranging columns: delete the column customer as it is only a unique identifier for each row of data"
   ]
  },
  {
   "cell_type": "code",
   "execution_count": 272,
   "id": "e0a3ee1d",
   "metadata": {},
   "outputs": [
    {
     "data": {
      "text/html": [
       "<div>\n",
       "<style scoped>\n",
       "    .dataframe tbody tr th:only-of-type {\n",
       "        vertical-align: middle;\n",
       "    }\n",
       "\n",
       "    .dataframe tbody tr th {\n",
       "        vertical-align: top;\n",
       "    }\n",
       "\n",
       "    .dataframe thead th {\n",
       "        text-align: right;\n",
       "    }\n",
       "</style>\n",
       "<table border=\"1\" class=\"dataframe\">\n",
       "  <thead>\n",
       "    <tr style=\"text-align: right;\">\n",
       "      <th></th>\n",
       "      <th>state</th>\n",
       "      <th>gender</th>\n",
       "      <th>education</th>\n",
       "      <th>customer lifetime value</th>\n",
       "      <th>income</th>\n",
       "      <th>monthly premium auto</th>\n",
       "      <th>number of open complaints</th>\n",
       "      <th>policy type</th>\n",
       "      <th>vehicle class</th>\n",
       "      <th>total claim amount</th>\n",
       "    </tr>\n",
       "  </thead>\n",
       "  <tbody>\n",
       "    <tr>\n",
       "      <th>0</th>\n",
       "      <td>Washington</td>\n",
       "      <td>NaN</td>\n",
       "      <td>Master</td>\n",
       "      <td>NaN</td>\n",
       "      <td>0.0</td>\n",
       "      <td>1000.0</td>\n",
       "      <td>1/0/00</td>\n",
       "      <td>Personal Auto</td>\n",
       "      <td>Four-Door Car</td>\n",
       "      <td>2.704934</td>\n",
       "    </tr>\n",
       "    <tr>\n",
       "      <th>1</th>\n",
       "      <td>Arizona</td>\n",
       "      <td>F</td>\n",
       "      <td>Bachelor</td>\n",
       "      <td>697953.59%</td>\n",
       "      <td>0.0</td>\n",
       "      <td>94.0</td>\n",
       "      <td>1/0/00</td>\n",
       "      <td>Personal Auto</td>\n",
       "      <td>Four-Door Car</td>\n",
       "      <td>1131.464935</td>\n",
       "    </tr>\n",
       "    <tr>\n",
       "      <th>2</th>\n",
       "      <td>Nevada</td>\n",
       "      <td>F</td>\n",
       "      <td>Bachelor</td>\n",
       "      <td>1288743.17%</td>\n",
       "      <td>48767.0</td>\n",
       "      <td>108.0</td>\n",
       "      <td>1/0/00</td>\n",
       "      <td>Personal Auto</td>\n",
       "      <td>Two-Door Car</td>\n",
       "      <td>566.472247</td>\n",
       "    </tr>\n",
       "    <tr>\n",
       "      <th>3</th>\n",
       "      <td>California</td>\n",
       "      <td>M</td>\n",
       "      <td>Bachelor</td>\n",
       "      <td>764586.18%</td>\n",
       "      <td>0.0</td>\n",
       "      <td>106.0</td>\n",
       "      <td>1/0/00</td>\n",
       "      <td>Corporate Auto</td>\n",
       "      <td>SUV</td>\n",
       "      <td>529.881344</td>\n",
       "    </tr>\n",
       "    <tr>\n",
       "      <th>4</th>\n",
       "      <td>Washington</td>\n",
       "      <td>M</td>\n",
       "      <td>High School or Below</td>\n",
       "      <td>536307.65%</td>\n",
       "      <td>36357.0</td>\n",
       "      <td>68.0</td>\n",
       "      <td>1/0/00</td>\n",
       "      <td>Personal Auto</td>\n",
       "      <td>Four-Door Car</td>\n",
       "      <td>17.269323</td>\n",
       "    </tr>\n",
       "    <tr>\n",
       "      <th>5</th>\n",
       "      <td>Oregon</td>\n",
       "      <td>F</td>\n",
       "      <td>Bachelor</td>\n",
       "      <td>825629.78%</td>\n",
       "      <td>62902.0</td>\n",
       "      <td>69.0</td>\n",
       "      <td>1/0/00</td>\n",
       "      <td>Personal Auto</td>\n",
       "      <td>Two-Door Car</td>\n",
       "      <td>159.383042</td>\n",
       "    </tr>\n",
       "    <tr>\n",
       "      <th>6</th>\n",
       "      <td>Oregon</td>\n",
       "      <td>F</td>\n",
       "      <td>College</td>\n",
       "      <td>538089.86%</td>\n",
       "      <td>55350.0</td>\n",
       "      <td>67.0</td>\n",
       "      <td>1/0/00</td>\n",
       "      <td>Corporate Auto</td>\n",
       "      <td>Four-Door Car</td>\n",
       "      <td>321.600000</td>\n",
       "    </tr>\n",
       "    <tr>\n",
       "      <th>7</th>\n",
       "      <td>Arizona</td>\n",
       "      <td>M</td>\n",
       "      <td>Master</td>\n",
       "      <td>721610.03%</td>\n",
       "      <td>0.0</td>\n",
       "      <td>101.0</td>\n",
       "      <td>1/0/00</td>\n",
       "      <td>Corporate Auto</td>\n",
       "      <td>Four-Door Car</td>\n",
       "      <td>363.029680</td>\n",
       "    </tr>\n",
       "    <tr>\n",
       "      <th>8</th>\n",
       "      <td>Oregon</td>\n",
       "      <td>M</td>\n",
       "      <td>Bachelor</td>\n",
       "      <td>2412750.40%</td>\n",
       "      <td>14072.0</td>\n",
       "      <td>71.0</td>\n",
       "      <td>1/0/00</td>\n",
       "      <td>Corporate Auto</td>\n",
       "      <td>Four-Door Car</td>\n",
       "      <td>511.200000</td>\n",
       "    </tr>\n",
       "    <tr>\n",
       "      <th>9</th>\n",
       "      <td>Oregon</td>\n",
       "      <td>F</td>\n",
       "      <td>College</td>\n",
       "      <td>738817.81%</td>\n",
       "      <td>28812.0</td>\n",
       "      <td>93.0</td>\n",
       "      <td>1/0/00</td>\n",
       "      <td>Special Auto</td>\n",
       "      <td>Four-Door Car</td>\n",
       "      <td>425.527834</td>\n",
       "    </tr>\n",
       "  </tbody>\n",
       "</table>\n",
       "</div>"
      ],
      "text/plain": [
       "        state gender             education customer lifetime value   income  \\\n",
       "0  Washington    NaN                Master                     NaN      0.0   \n",
       "1     Arizona      F              Bachelor              697953.59%      0.0   \n",
       "2      Nevada      F              Bachelor             1288743.17%  48767.0   \n",
       "3  California      M              Bachelor              764586.18%      0.0   \n",
       "4  Washington      M  High School or Below              536307.65%  36357.0   \n",
       "5      Oregon      F              Bachelor              825629.78%  62902.0   \n",
       "6      Oregon      F               College              538089.86%  55350.0   \n",
       "7     Arizona      M                Master              721610.03%      0.0   \n",
       "8      Oregon      M              Bachelor             2412750.40%  14072.0   \n",
       "9      Oregon      F               College              738817.81%  28812.0   \n",
       "\n",
       "   monthly premium auto number of open complaints     policy type  \\\n",
       "0                1000.0                    1/0/00   Personal Auto   \n",
       "1                  94.0                    1/0/00   Personal Auto   \n",
       "2                 108.0                    1/0/00   Personal Auto   \n",
       "3                 106.0                    1/0/00  Corporate Auto   \n",
       "4                  68.0                    1/0/00   Personal Auto   \n",
       "5                  69.0                    1/0/00   Personal Auto   \n",
       "6                  67.0                    1/0/00  Corporate Auto   \n",
       "7                 101.0                    1/0/00  Corporate Auto   \n",
       "8                  71.0                    1/0/00  Corporate Auto   \n",
       "9                  93.0                    1/0/00    Special Auto   \n",
       "\n",
       "   vehicle class  total claim amount  \n",
       "0  Four-Door Car            2.704934  \n",
       "1  Four-Door Car         1131.464935  \n",
       "2   Two-Door Car          566.472247  \n",
       "3            SUV          529.881344  \n",
       "4  Four-Door Car           17.269323  \n",
       "5   Two-Door Car          159.383042  \n",
       "6  Four-Door Car          321.600000  \n",
       "7  Four-Door Car          363.029680  \n",
       "8  Four-Door Car          511.200000  \n",
       "9  Four-Door Car          425.527834  "
      ]
     },
     "execution_count": 272,
     "metadata": {},
     "output_type": "execute_result"
    }
   ],
   "source": [
    "df.reset_index(drop=True, inplace=True)\n",
    "df = df.drop(labels=['customer'], axis=1)\n",
    "df.head(10)"
   ]
  },
  {
   "cell_type": "markdown",
   "id": "dbead100",
   "metadata": {},
   "source": [
    "#### Working with data types – Check the data types of all the columns and fix the incorrect ones (for ex. customer lifetime value and number of open complaints )"
   ]
  },
  {
   "cell_type": "code",
   "execution_count": 273,
   "id": "b40bd7dd",
   "metadata": {},
   "outputs": [
    {
     "name": "stdout",
     "output_type": "stream",
     "text": [
      "2944\n"
     ]
    }
   ],
   "source": [
    "# Drop \"%\" from the variable\n",
    "dropPerc = lambda x : x.replace (\"%\", \"\") if type(x) == str else x\n",
    "df[\"customer lifetime value\"] = df[\"customer lifetime value\"].apply(dropPerc)\n",
    "print(df['customer lifetime value'].isnull().sum())  ## check how many missing left"
   ]
  },
  {
   "cell_type": "markdown",
   "id": "84e55629",
   "metadata": {},
   "source": [
    "####  Replacing null values – Replace missing values with means of the column (for numerical columns)"
   ]
  },
  {
   "cell_type": "code",
   "execution_count": 274,
   "id": "bdf1f9c9",
   "metadata": {},
   "outputs": [
    {
     "name": "stdout",
     "output_type": "stream",
     "text": [
      "False\n",
      "False\n",
      "False\n",
      "False\n"
     ]
    }
   ],
   "source": [
    "## check if they are numeric\n",
    "from pandas.api.types import is_numeric_dtype\n",
    "for i in df[['income', 'monthly premium auto', 'total claim amount','customer lifetime value']]: \n",
    "    print(is_numeric_dtype(i))"
   ]
  },
  {
   "cell_type": "code",
   "execution_count": 275,
   "id": "582f5864",
   "metadata": {},
   "outputs": [],
   "source": [
    "## function to fill null with mean \n",
    "def fillMean(col): \n",
    "    col = col.astype(float)\n",
    "    col.fillna(col.mean(), inplace=True)"
   ]
  },
  {
   "cell_type": "code",
   "execution_count": 276,
   "id": "174b3363",
   "metadata": {},
   "outputs": [],
   "source": [
    "fillMean(df['monthly premium auto'])\n",
    "fillMean(df['total claim amount'])\n",
    "fillMean(df['customer lifetime value'])"
   ]
  },
  {
   "cell_type": "code",
   "execution_count": 277,
   "id": "f7985e53",
   "metadata": {},
   "outputs": [
    {
     "name": "stdout",
     "output_type": "stream",
     "text": [
      "0        0.0\n",
      "1        0.0\n",
      "2    48767.0\n",
      "Name: income, dtype: float64\n"
     ]
    },
    {
     "data": {
      "text/plain": [
       "0    50510\n",
       "1    50510\n",
       "2    48767\n",
       "Name: income, dtype: int32"
      ]
     },
     "execution_count": 277,
     "metadata": {},
     "output_type": "execute_result"
    }
   ],
   "source": [
    "## Income (transform nan in 0 first)\n",
    "print(df.income.head(3))\n",
    "df['income'].replace(0, np.nan, inplace=True)\n",
    "df['income'].fillna(df['income'].mean(), inplace=True)\n",
    "df['income'] = df['income'].round().astype(int)\n",
    "\n",
    "'''\n",
    "for i in df.columns:\n",
    "    if is_numeric_dtype(df[i]) == True:\n",
    "        df[i].fillna(df[i].mean(), inplace=True)\n",
    "'''\n",
    "\n",
    "df.income.head(3)"
   ]
  },
  {
   "cell_type": "markdown",
   "id": "bdacf7ea",
   "metadata": {},
   "source": [
    "#### Clean the number of open complaints and extract the middle number which is changing between records. Pay attention that the number of open complaints is a categorical feature"
   ]
  },
  {
   "cell_type": "code",
   "execution_count": 278,
   "id": "20d99a3b",
   "metadata": {},
   "outputs": [
    {
     "name": "stdout",
     "output_type": "stream",
     "text": [
      "0        1/0/00\n",
      "1        1/0/00\n",
      "2        1/0/00\n",
      "3        1/0/00\n",
      "4        1/0/00\n",
      "          ...  \n",
      "12069         0\n",
      "12070         0\n",
      "12071         3\n",
      "12072         0\n",
      "12073         0\n",
      "Name: number of open complaints, Length: 12074, dtype: object\n",
      "0\n"
     ]
    },
    {
     "data": {
      "text/plain": [
       "array(['0', '2', '1', '3', '5', '4', 'nan'], dtype=object)"
      ]
     },
     "execution_count": 278,
     "metadata": {},
     "output_type": "execute_result"
    }
   ],
   "source": [
    "# Transform to string and then keep only the 2nd digit (middle number) when more than 1\n",
    "print(df[\"number of open complaints\"])\n",
    "df[\"number of open complaints\"] = df[\"number of open complaints\"].astype(str)\n",
    "\n",
    "myF = lambda x: x[2] if x.count('') > 4 else x\n",
    "df[\"number of open complaints2\"] = df[\"number of open complaints\"].apply(myF)\n",
    "print(df['number of open complaints'].isnull().sum())\n",
    "\n",
    "# check if correct\n",
    "df[\"number of open complaints2\"].unique()"
   ]
  },
  {
   "cell_type": "markdown",
   "id": "c4d89561",
   "metadata": {},
   "source": [
    "#### Filtering data and Correcting typos – Filter the data in state and gender column to standardize the texts in those columns"
   ]
  },
  {
   "cell_type": "code",
   "execution_count": 279,
   "id": "fd1c2a27",
   "metadata": {},
   "outputs": [
    {
     "name": "stdout",
     "output_type": "stream",
     "text": [
      "[nan 'F' 'M']\n",
      "['Washington' 'Arizona' 'Nevada' 'California' 'Oregon' 'Cali' nan]\n"
     ]
    }
   ],
   "source": [
    "# clean gender and check\n",
    "df['gender'].replace('Femal', 'F', inplace=True)\n",
    "df['gender'].replace('female', 'F', inplace=True)\n",
    "df['gender'].replace('Male', 'M', inplace=True)\n",
    "print(df.gender.unique())\n",
    "\n",
    "# clean state and check\n",
    "df.state = list(map(lambda x: \"Arizona\" if x == \"AZ\" else x, df.state))\n",
    "df.state = list(map(lambda x: \"Washington\" if x == \"WA\" else x, df.state))\n",
    "print(df.state.unique())"
   ]
  },
  {
   "cell_type": "markdown",
   "id": "d99f9024",
   "metadata": {},
   "source": [
    "#### Fill nan values of Custome life value with the mean of the column"
   ]
  },
  {
   "cell_type": "code",
   "execution_count": 280,
   "id": "01ba6c7b",
   "metadata": {},
   "outputs": [
    {
     "data": {
      "text/plain": [
       "array(['E', 'C', 'W', 'NW', 'Nan'], dtype=object)"
      ]
     },
     "execution_count": 280,
     "metadata": {},
     "output_type": "execute_result"
    }
   ],
   "source": [
    "# Bucketing the data -\n",
    "# Write a function to replace column \"State\" to different zones.\n",
    "# California as West Region, Oregon as North West, and Washington as East,\n",
    "# and Arizona and Nevada as Cent\n",
    "\n",
    "df['region'] = ['W' if x=='California' \\\n",
    "                else 'NW' if x=='Oregon' \\\n",
    "                else 'E' if x=='Washington'\\\n",
    "                else 'C' if (x=='Arizona' or x=='Nevada')\\\n",
    "                else 'Nan' for x in df['state']]\n",
    "\n",
    "df['region'].unique()"
   ]
  },
  {
   "cell_type": "code",
   "execution_count": 281,
   "id": "388b402b",
   "metadata": {},
   "outputs": [
    {
     "name": "stdout",
     "output_type": "stream",
     "text": [
      "['E' 'C' 'WE' 'NE' 'NaN' nan]\n"
     ]
    }
   ],
   "source": [
    "#%% with function \n",
    "def regionAssignment(state):\n",
    "    state.replace(\"California\", \"WE\", inplace=True)\n",
    "    state.replace(\"Oregon\", \"NE\", inplace=True)\n",
    "    state.replace(\"Washington\", \"E\", inplace=True)\n",
    "    state.replace(\"Arizona\", \"C\", inplace=True)\n",
    "    state.replace(\"Nevada\", \"C\", inplace=True)\n",
    "    state.replace(\"Cali\", \"NaN\", inplace=True)\n",
    "    \n",
    "regionAssignment(df['state'])\n",
    "print(df['state'].unique())"
   ]
  },
  {
   "cell_type": "markdown",
   "id": "187872c6",
   "metadata": {},
   "source": [
    "#### Standardizing the data – Use string functions to standardize the text data (lower case)"
   ]
  },
  {
   "cell_type": "code",
   "execution_count": 282,
   "id": "80f6e03d",
   "metadata": {},
   "outputs": [
    {
     "name": "stdout",
     "output_type": "stream",
     "text": [
      "d\n"
     ]
    }
   ],
   "source": [
    "for i in df.columns:\n",
    "    if is_numeric_dtype(df[i]) == False:\n",
    "        df[i] = df[i].str.lower()\n",
    "df.head(3)\n"
   ]
  },
  {
   "cell_type": "code",
   "execution_count": null,
   "id": "3d2244a3",
   "metadata": {},
   "outputs": [],
   "source": []
  }
 ],
 "metadata": {
  "kernelspec": {
   "display_name": "Python 3 (ipykernel)",
   "language": "python",
   "name": "python3"
  },
  "language_info": {
   "codemirror_mode": {
    "name": "ipython",
    "version": 3
   },
   "file_extension": ".py",
   "mimetype": "text/x-python",
   "name": "python",
   "nbconvert_exporter": "python",
   "pygments_lexer": "ipython3",
   "version": "3.9.12"
  }
 },
 "nbformat": 4,
 "nbformat_minor": 5
}
